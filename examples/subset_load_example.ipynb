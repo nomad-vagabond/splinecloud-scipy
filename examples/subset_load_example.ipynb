{
 "cells": [
  {
   "cell_type": "code",
   "execution_count": 1,
   "metadata": {},
   "outputs": [],
   "source": [
    "from splinecloud_scipy import load_subset"
   ]
  },
  {
   "cell_type": "code",
   "execution_count": 2,
   "metadata": {},
   "outputs": [],
   "source": [
    "subset_id = 'sbt_nDO4XmmYqeGI'\n",
    "columns, table = load_subset(subset_id)"
   ]
  },
  {
   "cell_type": "code",
   "execution_count": 3,
   "metadata": {},
   "outputs": [
    {
     "data": {
      "text/plain": [
       "['Throttle (%)',\n",
       " 'Load Currency (A)',\n",
       " 'Pull (g)',\n",
       " 'Power (W)',\n",
       " 'Efficiency (g/W)']"
      ]
     },
     "execution_count": 3,
     "metadata": {},
     "output_type": "execute_result"
    }
   ],
   "source": [
    "columns"
   ]
  },
  {
   "cell_type": "code",
   "execution_count": 4,
   "metadata": {},
   "outputs": [
    {
     "data": {
      "text/plain": [
       "array([[5.0000e-01, 6.7600e+00, 3.8500e+02, 1.0871e+02, 3.5420e+00],\n",
       "       [6.0000e-01, 1.0200e+01, 4.9500e+02, 1.6249e+02, 3.0460e+00],\n",
       "       [7.0000e-01, 1.3580e+01, 6.0600e+02, 2.1768e+02, 2.7840e+00],\n",
       "       [8.0000e-01, 1.7390e+01, 6.8700e+02, 2.7140e+02, 2.5510e+00],\n",
       "       [9.0000e-01, 2.1030e+01, 7.4700e+02, 3.2813e+02, 2.2770e+00],\n",
       "       [1.0000e+00, 2.5060e+01, 8.0700e+02, 3.8555e+02, 2.0930e+00]])"
      ]
     },
     "execution_count": 4,
     "metadata": {},
     "output_type": "execute_result"
    }
   ],
   "source": [
    "table"
   ]
  },
  {
   "cell_type": "code",
   "execution_count": 5,
   "metadata": {},
   "outputs": [],
   "source": [
    "subset_id = 'sbt_6PDKCcDra3Zp'\n",
    "columns, table = load_subset(subset_id)"
   ]
  },
  {
   "cell_type": "code",
   "execution_count": 6,
   "metadata": {},
   "outputs": [
    {
     "data": {
      "text/plain": [
       "['Test Item', '2500KV']"
      ]
     },
     "execution_count": 6,
     "metadata": {},
     "output_type": "execute_result"
    }
   ],
   "source": [
    "columns"
   ]
  },
  {
   "cell_type": "code",
   "execution_count": 7,
   "metadata": {},
   "outputs": [
    {
     "data": {
      "text/plain": [
       "array([['Configuration', '12N14P'],\n",
       "       ['Stator Diameter', '18mm'],\n",
       "       ['Stator Length', '6mm'],\n",
       "       ['Shaft Diameter', '3mm'],\n",
       "       ['Motor Dimension (Dia. × Len.)', 'Ø25.2 × 16.3mm'],\n",
       "       ['Weight', '19.3g'],\n",
       "       ['Idle current (10) @ 10V', '<0.83A'],\n",
       "       ['No. of Cells (Lipo)', '4-6S'],\n",
       "       ['Max Continuous Power 60s', '385W'],\n",
       "       ['Internal Resistance', '0.1245Ω'],\n",
       "       ['Max Current (60s)', '25.06A'],\n",
       "       ['Temperature (in full throttle load 1min):', ' '],\n",
       "       ['Propeller 5030-3P', '65°C'],\n",
       "       ['Diameter/Quantity and Mounting hole dimensions', 'D12/4*M2']],\n",
       "      dtype=object)"
      ]
     },
     "execution_count": 7,
     "metadata": {},
     "output_type": "execute_result"
    }
   ],
   "source": [
    "table"
   ]
  },
  {
   "cell_type": "code",
   "execution_count": null,
   "metadata": {},
   "outputs": [],
   "source": []
  }
 ],
 "metadata": {
  "kernelspec": {
   "display_name": "Python 3 (ipykernel)",
   "language": "python",
   "name": "python3"
  },
  "language_info": {
   "codemirror_mode": {
    "name": "ipython",
    "version": 3
   },
   "file_extension": ".py",
   "mimetype": "text/x-python",
   "name": "python",
   "nbconvert_exporter": "python",
   "pygments_lexer": "ipython3",
   "version": "3.11.6"
  }
 },
 "nbformat": 4,
 "nbformat_minor": 4
}
